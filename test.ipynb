{
 "cells": [
  {
   "cell_type": "code",
   "execution_count": 135,
   "id": "cd8c79ce",
   "metadata": {},
   "outputs": [],
   "source": [
    "import numpy as np # linear algebra\n",
    "import pandas as pd # data processing, CSV file I/O (e.g. pd.read_csv)\n",
    "from inltk.inltk import setup\n",
    "from inltk.inltk import tokenize\n",
    "from collections import Counter\n",
    "import pandas as pd\n",
    "import re\n",
    "from langdetect import detect\n",
    "import matplotlib.pyplot as plt\n",
    "from sklearn.feature_extraction.text import TfidfVectorizer\n",
    "from sklearn.metrics.pairwise import linear_kernel\n",
    "from collections import Counter\n",
    "import seaborn as sns\n",
    "import os\n",
    "\n",
    "\n",
    "class HindiRecommender:\n",
    "    def __init__(self):\n",
    "        sns.set(rc={'figure.figsize':(10,7)})\n",
    "        pd.set_option('max_colwidth', 400)\n",
    "        self.df = pd.read_csv(os.path.join(os.getcwd(), 'data/clean_data.csv'))\n",
    "        self.df.drop(['Unnamed: 0'] , axis = 1, inplace = True)\n",
    "        print(self.df.columns)\n",
    "        self.df = self.df.drop_duplicates(subset='artist', keep='first')\n",
    "        self.df = self.df.reset_index(level=0)\n",
    "        self.df.rename(columns = {'Song name'  : 'song_name'}, inplace = True)\n",
    "\n",
    "        self.train()\n",
    "\n",
    "    # Calculating cosine similarities from lyrics and storing similar song results in results dict\n",
    "\n",
    "    def train(self):\n",
    "        self.tf = TfidfVectorizer(analyzer='word', min_df=0, max_features= 100 , lowercase=True)\n",
    "        self.tfidf_matrix = self.tf.fit_transform(self.df['lyrics'])\n",
    "\n",
    "        self.cosine_similarities = linear_kernel(self.tfidf_matrix, self.tfidf_matrix)\n",
    "        self.results = {}\n",
    "\n",
    "        for idx, row in self.df.iterrows():\n",
    "            similar_indices = self.cosine_similarities[idx].argsort()[:-100:-1]\n",
    "            similar_items = [(self.cosine_similarities[idx][i], self.df['id'][i]) for i in similar_indices]\n",
    "            self.results[row['id']] = similar_items[1:]\n",
    "\n",
    "\n",
    "\n",
    "    def item(self,id):\n",
    "        return self.df.loc[self.df['id'] == id]['song_name']\n",
    "\n",
    "    def recommend(self, artist, song_name, num):\n",
    "        # filter df to find id of the song with name and artist\n",
    "        song = self.df.query('song_name == @song_name and artist == @artist')\n",
    "        # if doesnt exist, return False for now TODO : change this..\n",
    "        # if exists, return the recommendations\n",
    "        if(not song.empty):\n",
    "            id = song['id']\n",
    "            print(id.item())\n",
    "            id = id.item()\n",
    "            print(\"Recommending \" + str(num) + \" songs similar to \" + self.item(id))\n",
    "            recs = self.results[id][:num]\n",
    "            i=0\n",
    "            for rec in recs:\n",
    "                print(\"We recommend : \" + self.item(rec[1]) + \" (score:\" + str(rec[0]) + \")\")\n",
    "        else:\n",
    "            # get song data from api\n",
    "            # if data not found, return error\n",
    "            # make sure lyrics is in hindi script\n",
    "            \n",
    "            # add to the data \n",
    "            #self.addRow( songData )\n",
    "            \n",
    "            # call the same function with same arguments and return\n",
    "            #return(self.recommend(artist, song_name, num))\n",
    "            print(\"Song not found in the dataset\")\n",
    "\n",
    "    \n",
    "    def addRow(self, song_name, type, artist, lyrics):\n",
    "        id = len(self.df['id'])\n",
    "        newRow = [0,song_name, type, artist, lyrics, id]\n",
    "        print(len(self.df.loc[len(self.df['id']) - 1]))\n",
    "        # add the new song data to the df\n",
    "        self.df.loc[len(self.df['id'])] = newRow\n",
    "        #train again\n",
    "        self.train()\n",
    "        "
   ]
  },
  {
   "cell_type": "code",
   "execution_count": 134,
   "id": "4d3def63",
   "metadata": {},
   "outputs": [
    {
     "name": "stdout",
     "output_type": "stream",
     "text": [
      "159\n",
      "159    Recommending 3 songs similar to kesariya\n",
      "Name: song_name, dtype: object\n",
      "30    We recommend : ishk bina (score:0.6170150210459446)\n",
      "Name: song_name, dtype: object\n",
      "29    We recommend : isk da mara (score:0.5914068376696214)\n",
      "Name: song_name, dtype: object\n",
      "80    We recommend : tara gin gin gin gin gin gin gin gin gin gin gin gin gin gin gin gin gin gin gin gin gin gin gin gin gin gin gin gin gin gin gin gin gin gin gin gin gin gin gin gin gin gin gin gin gin) (score:0.5537321882573178)\n",
      "Name: song_name, dtype: object\n"
     ]
    }
   ],
   "source": [
    "t.recommend('arijit singh', 'kesariya', 3)"
   ]
  },
  {
   "cell_type": "code",
   "execution_count": 131,
   "id": "93706983",
   "metadata": {},
   "outputs": [
    {
     "name": "stdout",
     "output_type": "stream",
     "text": [
      "Index(['song_name', 'type', 'artist', 'lyrics', 'id'], dtype='object')\n"
     ]
    }
   ],
   "source": [
    "t = HindiRecommender()"
   ]
  },
  {
   "cell_type": "code",
   "execution_count": 132,
   "id": "02d76774",
   "metadata": {},
   "outputs": [
    {
     "name": "stdout",
     "output_type": "stream",
     "text": [
      "6\n"
     ]
    }
   ],
   "source": [
    "t.addRow(song_name = 'kesariya', type = 'romantic', artist =  'arijit singh', lyrics =  '''मुझको... इतना बताये कोई कैसे तुझसे दिल ना लगाए कोई रब्बा ने तुझको बनाने में कर दी है हुस्न की खाली तिजोरियाँ काजल की सिहाई से लिखी है तूने जाने कितनो की लव स्टोरियाँ केसरिया तेरा इश्क़ है पिया रंग जाऊं जो मैं हाथ लगाऊँ दिन बीते सारा तेरी फ़िक्र में रैन सारी तेरी खैर मनाऊँ शिवा... ईशा का मतलब जानते हो तुम ? पार्वती अब शिवा का साथ पार्वती नही देगी तो कौन देगा पतझड़ के मौसम में भी रंगी चनारो जैसी झनके सन्नाटो में तू वीना के तारो जैसी... हम्म... सदियों से भी लम्बी ये मन की अमावसे है और तू फुलझड़ियों वाले त्योहारों जैसी चंदा भी दीवाना है तेरा जलती है तुझसे सारी चकोरियाँ... काजल की सिहाई से लिखी है तूने जाने कितनो की लव स्टोरियाँ... लव स्टोरियाँ... केसरिया तेरा इश्क़ है पिया रंग जाऊं जो मैं हाथ लगाऊँ दिन बीते सारा तेरी फ़िक्र में रैन सारी तेरी खैर मनाऊँ केसरिया तेरा इश्क़ है पिया इश्क़ है पिया केसरिया तेरा इश्क़ है पिया इश्क़ है पिया केसरिया तेरा''')"
   ]
  },
  {
   "cell_type": "code",
   "execution_count": 111,
   "id": "3721d6b9",
   "metadata": {},
   "outputs": [],
   "source": [
    "#t.addRow([0,'new','new', 'new', 'new', 'new'])\n",
    "df = pd.read_csv('data/transliterated_data.csv')\n",
    "df.drop(['level_0', 'Unnamed: 0'], axis = 1, inplace = True)"
   ]
  },
  {
   "cell_type": "code",
   "execution_count": 112,
   "id": "debd01d6",
   "metadata": {},
   "outputs": [
    {
     "data": {
      "text/plain": [
       "Index(['song_name', 'type', 'artist', 'lyrics', 'id'], dtype='object')"
      ]
     },
     "execution_count": 112,
     "metadata": {},
     "output_type": "execute_result"
    }
   ],
   "source": [
    "df.columns"
   ]
  },
  {
   "cell_type": "code",
   "execution_count": 113,
   "id": "6544e31d",
   "metadata": {},
   "outputs": [],
   "source": [
    "df.to_csv('data/clean_data.csv')"
   ]
  },
  {
   "cell_type": "code",
   "execution_count": 64,
   "id": "6e951648",
   "metadata": {},
   "outputs": [
    {
     "name": "stdout",
     "output_type": "stream",
     "text": [
      "781\n",
      "156    Recommending 3 songs similar to har jani a\n",
      "Name: song_name, dtype: object\n",
      "151    We recommend : hammen tummen (score:0.5973167093264719)\n",
      "Name: song_name, dtype: object\n",
      "71    We recommend : jabra phan (score:0.5861383384971809)\n",
      "Name: song_name, dtype: object\n",
      "97    We recommend : dil todeya (score:0.531430640036588)\n",
      "Name: song_name, dtype: object\n"
     ]
    }
   ],
   "source": [
    "artist = \"mehtab\"\n",
    "song_name = \"har jani a\"\n",
    "t.recommend(artist, song_name,3)"
   ]
  },
  {
   "cell_type": "code",
   "execution_count": 87,
   "id": "d704fdb0",
   "metadata": {},
   "outputs": [
    {
     "data": {
      "text/html": [
       "<div>\n",
       "<style scoped>\n",
       "    .dataframe tbody tr th:only-of-type {\n",
       "        vertical-align: middle;\n",
       "    }\n",
       "\n",
       "    .dataframe tbody tr th {\n",
       "        vertical-align: top;\n",
       "    }\n",
       "\n",
       "    .dataframe thead th {\n",
       "        text-align: right;\n",
       "    }\n",
       "</style>\n",
       "<table border=\"1\" class=\"dataframe\">\n",
       "  <thead>\n",
       "    <tr style=\"text-align: right;\">\n",
       "      <th></th>\n",
       "      <th>level_0</th>\n",
       "      <th>song_name</th>\n",
       "      <th>type</th>\n",
       "      <th>artist</th>\n",
       "      <th>lyrics</th>\n",
       "      <th>id</th>\n",
       "    </tr>\n",
       "  </thead>\n",
       "  <tbody>\n",
       "    <tr>\n",
       "      <th>1</th>\n",
       "      <td>1</td>\n",
       "      <td>akkad bakkar</td>\n",
       "      <td>party</td>\n",
       "      <td>badshah</td>\n",
       "      <td>अक्कड़ बक्कड़ बॉम्बे बो 80, 90 पुरे 100 रात के बज गए पौने दो जो होता है होने दो अक्कड़ बक्कड़ बॉम्बे बो 80, 90 पुरे 100 रात के बज गए पौने दो जो होता है होने दो अक्कड़ बक्कड़ बॉम्बे बो 80, 90 पुरे 100 रात के बज गए पौने दो जो होता है होने दो अक्कड़ बक्कड़ बॉम्बे बो 80, 90 पुरे 100 रात के बज गए पौने दो जो होता है होने दो  अक्कड़ बक्कड़ अक्कड़ बक्कड़ अक्कड़ बक्कड़ अक्कड़ बक्कड़..  कुड़ी तू इक लोनल...</td>\n",
       "      <td>2</td>\n",
       "    </tr>\n",
       "  </tbody>\n",
       "</table>\n",
       "</div>"
      ],
      "text/plain": [
       "   level_0     song_name   type   artist  \\\n",
       "1        1  akkad bakkar  party  badshah   \n",
       "\n",
       "                                                                                                                                                                                                                                                                                                                                                                                                            lyrics  \\\n",
       "1  अक्कड़ बक्कड़ बॉम्बे बो 80, 90 पुरे 100 रात के बज गए पौने दो जो होता है होने दो अक्कड़ बक्कड़ बॉम्बे बो 80, 90 पुरे 100 रात के बज गए पौने दो जो होता है होने दो अक्कड़ बक्कड़ बॉम्बे बो 80, 90 पुरे 100 रात के बज गए पौने दो जो होता है होने दो अक्कड़ बक्कड़ बॉम्बे बो 80, 90 पुरे 100 रात के बज गए पौने दो जो होता है होने दो  अक्कड़ बक्कड़ अक्कड़ बक्कड़ अक्कड़ बक्कड़ अक्कड़ बक्कड़..  कुड़ी तू इक लोनल...   \n",
       "\n",
       "   id  \n",
       "1   2  "
      ]
     },
     "execution_count": 87,
     "metadata": {},
     "output_type": "execute_result"
    }
   ],
   "source": [
    "\n",
    "df.query('song_name == @song_name and artist == @artist')"
   ]
  },
  {
   "cell_type": "code",
   "execution_count": 14,
   "id": "e8236394",
   "metadata": {},
   "outputs": [
    {
     "name": "stdout",
     "output_type": "stream",
     "text": [
      "hindi\n"
     ]
    }
   ],
   "source": [
    "from indicate import transliterate\n",
    "english_translated = transliterate.hindi2english(\"हिंदी\")\n",
    "print(english_translated)"
   ]
  },
  {
   "cell_type": "code",
   "execution_count": null,
   "id": "649407bc",
   "metadata": {},
   "outputs": [],
   "source": [
    "# train with hindi\n",
    "# search with transliterated\n",
    "# use id as common attribute"
   ]
  },
  {
   "cell_type": "code",
   "execution_count": 18,
   "id": "06bde475",
   "metadata": {
    "collapsed": true
   },
   "outputs": [
    {
     "name": "stderr",
     "output_type": "stream",
     "text": [
      "Not able to transliterate अपना टाइम आएगा within 10 seconds, exiting with Function transliterate (args=('अपना टाइम आएगा', 1024, <keras.preprocessing.text.Tokenizer object at 0x0000019ADEBAEA00>, <keras.preprocessing.text.Tokenizer object at 0x0000019ADEBAE5E0>, <indicate.encoder.Encoder object at 0x0000019ADEBAE0A0>, <indicate.decoder.Decoder object at 0x0000019AE5D29370>, 47)) (kwargs={}) timed out after 10.000000 seconds.\n",
      "\n"
     ]
    },
    {
     "name": "stdout",
     "output_type": "stream",
     "text": [
      "ERROR:tensorflow:==================================\n",
      "Object was never used (type <class 'tensorflow.python.ops.tensor_array_ops.TensorArray'>):\n",
      "<tensorflow.python.ops.tensor_array_ops.TensorArray object at 0x0000019AE62C0F40>\n",
      "If you want to mark it as used call its \"mark_used()\" method.\n",
      "It was originally created here:\n",
      "  File \"c:\\users\\aleena\\appdata\\local\\programs\\python\\python38\\lib\\site-packages\\tensorflow_addons\\seq2seq\\decoder.py\", line 508, in body\n",
      "    return (  File \"c:\\users\\aleena\\appdata\\local\\programs\\python\\python38\\lib\\site-packages\\tensorflow\\python\\util\\nest.py\", line 916, in map_structure\n",
      "    return pack_sequence_as(  File \"c:\\users\\aleena\\appdata\\local\\programs\\python\\python38\\lib\\site-packages\\tensorflow\\python\\util\\nest.py\", line 917, in <listcomp>\n",
      "    structure[0], [func(*x) for x in entries],  File \"c:\\users\\aleena\\appdata\\local\\programs\\python\\python38\\lib\\site-packages\\tensorflow_addons\\seq2seq\\decoder.py\", line 506, in <lambda>\n",
      "    lambda ta, out: ta.write(time, out), outputs_ta, emit  File \"c:\\users\\aleena\\appdata\\local\\programs\\python\\python38\\lib\\site-packages\\tensorflow\\python\\util\\tf_should_use.py\", line 243, in wrapped\n",
      "    return _add_should_use_warning(fn(*args, **kwargs),\n",
      "==================================\n",
      "ERROR:tensorflow:==================================\n",
      "Object was never used (type <class 'tensorflow.python.ops.tensor_array_ops.TensorArray'>):\n",
      "<tensorflow.python.ops.tensor_array_ops.TensorArray object at 0x0000019AE62C0F70>\n",
      "If you want to mark it as used call its \"mark_used()\" method.\n",
      "It was originally created here:\n",
      "  File \"c:\\users\\aleena\\appdata\\local\\programs\\python\\python38\\lib\\site-packages\\tensorflow_addons\\seq2seq\\decoder.py\", line 508, in body\n",
      "    return (  File \"c:\\users\\aleena\\appdata\\local\\programs\\python\\python38\\lib\\site-packages\\tensorflow\\python\\util\\nest.py\", line 916, in map_structure\n",
      "    return pack_sequence_as(  File \"c:\\users\\aleena\\appdata\\local\\programs\\python\\python38\\lib\\site-packages\\tensorflow\\python\\util\\nest.py\", line 917, in <listcomp>\n",
      "    structure[0], [func(*x) for x in entries],  File \"c:\\users\\aleena\\appdata\\local\\programs\\python\\python38\\lib\\site-packages\\tensorflow_addons\\seq2seq\\decoder.py\", line 506, in <lambda>\n",
      "    lambda ta, out: ta.write(time, out), outputs_ta, emit  File \"c:\\users\\aleena\\appdata\\local\\programs\\python\\python38\\lib\\site-packages\\tensorflow\\python\\util\\tf_should_use.py\", line 243, in wrapped\n",
      "    return _add_should_use_warning(fn(*args, **kwargs),\n",
      "==================================\n"
     ]
    },
    {
     "name": "stderr",
     "output_type": "stream",
     "text": [
      "Not able to transliterate चलो चले रे साजन धीरे धीरे within 10 seconds, exiting with Function transliterate (args=('चलो चले रे साजन धीरे धीरे', 1024, <keras.preprocessing.text.Tokenizer object at 0x0000019ADEBAEA00>, <keras.preprocessing.text.Tokenizer object at 0x0000019ADEBAE5E0>, <indicate.encoder.Encoder object at 0x0000019ADEBAE0A0>, <indicate.decoder.Decoder object at 0x0000019AE5D29370>, 47)) (kwargs={}) timed out after 10.000000 seconds.\n",
      "\n"
     ]
    },
    {
     "name": "stdout",
     "output_type": "stream",
     "text": [
      "ERROR:tensorflow:==================================\n",
      "Object was never used (type <class 'tensorflow.python.ops.tensor_array_ops.TensorArray'>):\n",
      "<tensorflow.python.ops.tensor_array_ops.TensorArray object at 0x0000019AE62C03A0>\n",
      "If you want to mark it as used call its \"mark_used()\" method.\n",
      "It was originally created here:\n",
      "  File \"c:\\users\\aleena\\appdata\\local\\programs\\python\\python38\\lib\\site-packages\\tensorflow_addons\\seq2seq\\decoder.py\", line 508, in body\n",
      "    return (  File \"c:\\users\\aleena\\appdata\\local\\programs\\python\\python38\\lib\\site-packages\\tensorflow\\python\\util\\nest.py\", line 916, in map_structure\n",
      "    return pack_sequence_as(  File \"c:\\users\\aleena\\appdata\\local\\programs\\python\\python38\\lib\\site-packages\\tensorflow\\python\\util\\nest.py\", line 917, in <listcomp>\n",
      "    structure[0], [func(*x) for x in entries],  File \"c:\\users\\aleena\\appdata\\local\\programs\\python\\python38\\lib\\site-packages\\tensorflow_addons\\seq2seq\\decoder.py\", line 506, in <lambda>\n",
      "    lambda ta, out: ta.write(time, out), outputs_ta, emit  File \"c:\\users\\aleena\\appdata\\local\\programs\\python\\python38\\lib\\site-packages\\tensorflow\\python\\util\\tf_should_use.py\", line 243, in wrapped\n",
      "    return _add_should_use_warning(fn(*args, **kwargs),\n",
      "==================================\n",
      "ERROR:tensorflow:==================================\n",
      "Object was never used (type <class 'tensorflow.python.ops.tensor_array_ops.TensorArray'>):\n",
      "<tensorflow.python.ops.tensor_array_ops.TensorArray object at 0x0000019AE62C0E20>\n",
      "If you want to mark it as used call its \"mark_used()\" method.\n",
      "It was originally created here:\n",
      "  File \"c:\\users\\aleena\\appdata\\local\\programs\\python\\python38\\lib\\site-packages\\tensorflow_addons\\seq2seq\\decoder.py\", line 508, in body\n",
      "    return (  File \"c:\\users\\aleena\\appdata\\local\\programs\\python\\python38\\lib\\site-packages\\tensorflow\\python\\util\\nest.py\", line 916, in map_structure\n",
      "    return pack_sequence_as(  File \"c:\\users\\aleena\\appdata\\local\\programs\\python\\python38\\lib\\site-packages\\tensorflow\\python\\util\\nest.py\", line 917, in <listcomp>\n",
      "    structure[0], [func(*x) for x in entries],  File \"c:\\users\\aleena\\appdata\\local\\programs\\python\\python38\\lib\\site-packages\\tensorflow_addons\\seq2seq\\decoder.py\", line 506, in <lambda>\n",
      "    lambda ta, out: ta.write(time, out), outputs_ta, emit  File \"c:\\users\\aleena\\appdata\\local\\programs\\python\\python38\\lib\\site-packages\\tensorflow\\python\\util\\tf_should_use.py\", line 243, in wrapped\n",
      "    return _add_should_use_warning(fn(*args, **kwargs),\n",
      "==================================\n"
     ]
    },
    {
     "name": "stderr",
     "output_type": "stream",
     "text": [
      "Not able to transliterate जग सुना सुना जग सुना सुना  within 10 seconds, exiting with Function transliterate (args=('जग सुना सुना जग सुना सुना ', 1024, <keras.preprocessing.text.Tokenizer object at 0x0000019ADEBAEA00>, <keras.preprocessing.text.Tokenizer object at 0x0000019ADEBAE5E0>, <indicate.encoder.Encoder object at 0x0000019ADEBAE0A0>, <indicate.decoder.Decoder object at 0x0000019AE5D29370>, 47)) (kwargs={}) timed out after 10.000000 seconds.\n",
      "\n"
     ]
    },
    {
     "name": "stdout",
     "output_type": "stream",
     "text": [
      "ERROR:tensorflow:==================================\n",
      "Object was never used (type <class 'tensorflow.python.ops.tensor_array_ops.TensorArray'>):\n",
      "<tensorflow.python.ops.tensor_array_ops.TensorArray object at 0x0000019AE6298970>\n",
      "If you want to mark it as used call its \"mark_used()\" method.\n",
      "It was originally created here:\n",
      "  File \"c:\\users\\aleena\\appdata\\local\\programs\\python\\python38\\lib\\site-packages\\tensorflow_addons\\seq2seq\\decoder.py\", line 508, in body\n",
      "    return (  File \"c:\\users\\aleena\\appdata\\local\\programs\\python\\python38\\lib\\site-packages\\tensorflow\\python\\util\\nest.py\", line 916, in map_structure\n",
      "    return pack_sequence_as(  File \"c:\\users\\aleena\\appdata\\local\\programs\\python\\python38\\lib\\site-packages\\tensorflow\\python\\util\\nest.py\", line 917, in <listcomp>\n",
      "    structure[0], [func(*x) for x in entries],  File \"c:\\users\\aleena\\appdata\\local\\programs\\python\\python38\\lib\\site-packages\\tensorflow_addons\\seq2seq\\decoder.py\", line 506, in <lambda>\n",
      "    lambda ta, out: ta.write(time, out), outputs_ta, emit  File \"c:\\users\\aleena\\appdata\\local\\programs\\python\\python38\\lib\\site-packages\\tensorflow\\python\\util\\tf_should_use.py\", line 243, in wrapped\n",
      "    return _add_should_use_warning(fn(*args, **kwargs),\n",
      "==================================\n",
      "ERROR:tensorflow:==================================\n",
      "Object was never used (type <class 'tensorflow.python.ops.tensor_array_ops.TensorArray'>):\n",
      "<tensorflow.python.ops.tensor_array_ops.TensorArray object at 0x0000019AE6298BB0>\n",
      "If you want to mark it as used call its \"mark_used()\" method.\n",
      "It was originally created here:\n",
      "  File \"c:\\users\\aleena\\appdata\\local\\programs\\python\\python38\\lib\\site-packages\\tensorflow_addons\\seq2seq\\decoder.py\", line 508, in body\n",
      "    return (  File \"c:\\users\\aleena\\appdata\\local\\programs\\python\\python38\\lib\\site-packages\\tensorflow\\python\\util\\nest.py\", line 916, in map_structure\n",
      "    return pack_sequence_as(  File \"c:\\users\\aleena\\appdata\\local\\programs\\python\\python38\\lib\\site-packages\\tensorflow\\python\\util\\nest.py\", line 917, in <listcomp>\n",
      "    structure[0], [func(*x) for x in entries],  File \"c:\\users\\aleena\\appdata\\local\\programs\\python\\python38\\lib\\site-packages\\tensorflow_addons\\seq2seq\\decoder.py\", line 506, in <lambda>\n",
      "    lambda ta, out: ta.write(time, out), outputs_ta, emit  File \"c:\\users\\aleena\\appdata\\local\\programs\\python\\python38\\lib\\site-packages\\tensorflow\\python\\util\\tf_should_use.py\", line 243, in wrapped\n",
      "    return _add_should_use_warning(fn(*args, **kwargs),\n",
      "==================================\n"
     ]
    },
    {
     "name": "stderr",
     "output_type": "stream",
     "text": [
      "Not able to transliterate ज़िन्दगी मेरा गाना  within 10 seconds, exiting with Function transliterate (args=('ज़िन्दगी मेरा गाना ', 1024, <keras.preprocessing.text.Tokenizer object at 0x0000019ADEBAEA00>, <keras.preprocessing.text.Tokenizer object at 0x0000019ADEBAE5E0>, <indicate.encoder.Encoder object at 0x0000019ADEBAE0A0>, <indicate.decoder.Decoder object at 0x0000019AE5D29370>, 47)) (kwargs={}) timed out after 10.000000 seconds.\n",
      "\n"
     ]
    },
    {
     "name": "stdout",
     "output_type": "stream",
     "text": [
      "ERROR:tensorflow:==================================\n",
      "Object was never used (type <class 'tensorflow.python.ops.tensor_array_ops.TensorArray'>):\n",
      "<tensorflow.python.ops.tensor_array_ops.TensorArray object at 0x0000019AE63029D0>\n",
      "If you want to mark it as used call its \"mark_used()\" method.\n",
      "It was originally created here:\n",
      "  File \"c:\\users\\aleena\\appdata\\local\\programs\\python\\python38\\lib\\site-packages\\tensorflow_addons\\seq2seq\\decoder.py\", line 508, in body\n",
      "    return (  File \"c:\\users\\aleena\\appdata\\local\\programs\\python\\python38\\lib\\site-packages\\tensorflow\\python\\util\\nest.py\", line 916, in map_structure\n",
      "    return pack_sequence_as(  File \"c:\\users\\aleena\\appdata\\local\\programs\\python\\python38\\lib\\site-packages\\tensorflow\\python\\util\\nest.py\", line 917, in <listcomp>\n",
      "    structure[0], [func(*x) for x in entries],  File \"c:\\users\\aleena\\appdata\\local\\programs\\python\\python38\\lib\\site-packages\\tensorflow_addons\\seq2seq\\decoder.py\", line 506, in <lambda>\n",
      "    lambda ta, out: ta.write(time, out), outputs_ta, emit  File \"c:\\users\\aleena\\appdata\\local\\programs\\python\\python38\\lib\\site-packages\\tensorflow\\python\\util\\tf_should_use.py\", line 243, in wrapped\n",
      "    return _add_should_use_warning(fn(*args, **kwargs),\n",
      "==================================\n",
      "ERROR:tensorflow:==================================\n",
      "Object was never used (type <class 'tensorflow.python.ops.tensor_array_ops.TensorArray'>):\n",
      "<tensorflow.python.ops.tensor_array_ops.TensorArray object at 0x0000019AE6302520>\n",
      "If you want to mark it as used call its \"mark_used()\" method.\n",
      "It was originally created here:\n",
      "  File \"c:\\users\\aleena\\appdata\\local\\programs\\python\\python38\\lib\\site-packages\\tensorflow_addons\\seq2seq\\decoder.py\", line 508, in body\n",
      "    return (  File \"c:\\users\\aleena\\appdata\\local\\programs\\python\\python38\\lib\\site-packages\\tensorflow\\python\\util\\nest.py\", line 916, in map_structure\n",
      "    return pack_sequence_as(  File \"c:\\users\\aleena\\appdata\\local\\programs\\python\\python38\\lib\\site-packages\\tensorflow\\python\\util\\nest.py\", line 917, in <listcomp>\n",
      "    structure[0], [func(*x) for x in entries],  File \"c:\\users\\aleena\\appdata\\local\\programs\\python\\python38\\lib\\site-packages\\tensorflow_addons\\seq2seq\\decoder.py\", line 506, in <lambda>\n",
      "    lambda ta, out: ta.write(time, out), outputs_ta, emit  File \"c:\\users\\aleena\\appdata\\local\\programs\\python\\python38\\lib\\site-packages\\tensorflow\\python\\util\\tf_should_use.py\", line 243, in wrapped\n",
      "    return _add_should_use_warning(fn(*args, **kwargs),\n",
      "==================================\n"
     ]
    },
    {
     "name": "stderr",
     "output_type": "stream",
     "text": [
      "Not able to transliterate जीता था जिसके लिएजीता था जिसके लिए within 10 seconds, exiting with Function transliterate (args=('जीता था जिसके लिएजीता था जिसके लिए', 1024, <keras.preprocessing.text.Tokenizer object at 0x0000019ADEBAEA00>, <keras.preprocessing.text.Tokenizer object at 0x0000019ADEBAE5E0>, <indicate.encoder.Encoder object at 0x0000019ADEBAE0A0>, <indicate.decoder.Decoder object at 0x0000019AE5D29370>, 47)) (kwargs={}) timed out after 10.000000 seconds.\n",
      "\n"
     ]
    },
    {
     "name": "stdout",
     "output_type": "stream",
     "text": [
      "ERROR:tensorflow:==================================\n",
      "Object was never used (type <class 'tensorflow.python.ops.tensor_array_ops.TensorArray'>):\n",
      "<tensorflow.python.ops.tensor_array_ops.TensorArray object at 0x0000019AE62B6160>\n",
      "If you want to mark it as used call its \"mark_used()\" method.\n",
      "It was originally created here:\n",
      "  File \"c:\\users\\aleena\\appdata\\local\\programs\\python\\python38\\lib\\site-packages\\tensorflow_addons\\seq2seq\\decoder.py\", line 508, in body\n",
      "    return (  File \"c:\\users\\aleena\\appdata\\local\\programs\\python\\python38\\lib\\site-packages\\tensorflow\\python\\util\\nest.py\", line 916, in map_structure\n",
      "    return pack_sequence_as(  File \"c:\\users\\aleena\\appdata\\local\\programs\\python\\python38\\lib\\site-packages\\tensorflow\\python\\util\\nest.py\", line 917, in <listcomp>\n",
      "    structure[0], [func(*x) for x in entries],  File \"c:\\users\\aleena\\appdata\\local\\programs\\python\\python38\\lib\\site-packages\\tensorflow_addons\\seq2seq\\decoder.py\", line 506, in <lambda>\n",
      "    lambda ta, out: ta.write(time, out), outputs_ta, emit  File \"c:\\users\\aleena\\appdata\\local\\programs\\python\\python38\\lib\\site-packages\\tensorflow\\python\\util\\tf_should_use.py\", line 243, in wrapped\n",
      "    return _add_should_use_warning(fn(*args, **kwargs),\n",
      "==================================\n",
      "ERROR:tensorflow:==================================\n",
      "Object was never used (type <class 'tensorflow.python.ops.tensor_array_ops.TensorArray'>):\n",
      "<tensorflow.python.ops.tensor_array_ops.TensorArray object at 0x0000019AE62B6040>\n",
      "If you want to mark it as used call its \"mark_used()\" method.\n",
      "It was originally created here:\n",
      "  File \"c:\\users\\aleena\\appdata\\local\\programs\\python\\python38\\lib\\site-packages\\tensorflow_addons\\seq2seq\\decoder.py\", line 508, in body\n",
      "    return (  File \"c:\\users\\aleena\\appdata\\local\\programs\\python\\python38\\lib\\site-packages\\tensorflow\\python\\util\\nest.py\", line 916, in map_structure\n",
      "    return pack_sequence_as(  File \"c:\\users\\aleena\\appdata\\local\\programs\\python\\python38\\lib\\site-packages\\tensorflow\\python\\util\\nest.py\", line 917, in <listcomp>\n",
      "    structure[0], [func(*x) for x in entries],  File \"c:\\users\\aleena\\appdata\\local\\programs\\python\\python38\\lib\\site-packages\\tensorflow_addons\\seq2seq\\decoder.py\", line 506, in <lambda>\n",
      "    lambda ta, out: ta.write(time, out), outputs_ta, emit  File \"c:\\users\\aleena\\appdata\\local\\programs\\python\\python38\\lib\\site-packages\\tensorflow\\python\\util\\tf_should_use.py\", line 243, in wrapped\n",
      "    return _add_should_use_warning(fn(*args, **kwargs),\n",
      "==================================\n"
     ]
    },
    {
     "name": "stderr",
     "output_type": "stream",
     "text": [
      "Not able to transliterate तुम्हारी पलकों की चिलमनो में within 10 seconds, exiting with Function transliterate (args=('तुम्हारी पलकों की चिलमनो में', 1024, <keras.preprocessing.text.Tokenizer object at 0x0000019ADEBAEA00>, <keras.preprocessing.text.Tokenizer object at 0x0000019ADEBAE5E0>, <indicate.encoder.Encoder object at 0x0000019ADEBAE0A0>, <indicate.decoder.Decoder object at 0x0000019AE5D29370>, 47)) (kwargs={}) timed out after 10.000000 seconds.\n",
      "\n"
     ]
    },
    {
     "name": "stdout",
     "output_type": "stream",
     "text": [
      "ERROR:tensorflow:==================================\n",
      "Object was never used (type <class 'tensorflow.python.ops.tensor_array_ops.TensorArray'>):\n",
      "<tensorflow.python.ops.tensor_array_ops.TensorArray object at 0x0000019AE630CA60>\n",
      "If you want to mark it as used call its \"mark_used()\" method.\n",
      "It was originally created here:\n",
      "  File \"c:\\users\\aleena\\appdata\\local\\programs\\python\\python38\\lib\\site-packages\\tensorflow_addons\\seq2seq\\decoder.py\", line 508, in body\n",
      "    return (  File \"c:\\users\\aleena\\appdata\\local\\programs\\python\\python38\\lib\\site-packages\\tensorflow\\python\\util\\nest.py\", line 916, in map_structure\n",
      "    return pack_sequence_as(  File \"c:\\users\\aleena\\appdata\\local\\programs\\python\\python38\\lib\\site-packages\\tensorflow\\python\\util\\nest.py\", line 917, in <listcomp>\n",
      "    structure[0], [func(*x) for x in entries],  File \"c:\\users\\aleena\\appdata\\local\\programs\\python\\python38\\lib\\site-packages\\tensorflow_addons\\seq2seq\\decoder.py\", line 506, in <lambda>\n",
      "    lambda ta, out: ta.write(time, out), outputs_ta, emit  File \"c:\\users\\aleena\\appdata\\local\\programs\\python\\python38\\lib\\site-packages\\tensorflow\\python\\util\\tf_should_use.py\", line 243, in wrapped\n",
      "    return _add_should_use_warning(fn(*args, **kwargs),\n",
      "==================================\n",
      "ERROR:tensorflow:==================================\n",
      "Object was never used (type <class 'tensorflow.python.ops.tensor_array_ops.TensorArray'>):\n",
      "<tensorflow.python.ops.tensor_array_ops.TensorArray object at 0x0000019AE630CBB0>\n",
      "If you want to mark it as used call its \"mark_used()\" method.\n",
      "It was originally created here:\n",
      "  File \"c:\\users\\aleena\\appdata\\local\\programs\\python\\python38\\lib\\site-packages\\tensorflow_addons\\seq2seq\\decoder.py\", line 508, in body\n",
      "    return (  File \"c:\\users\\aleena\\appdata\\local\\programs\\python\\python38\\lib\\site-packages\\tensorflow\\python\\util\\nest.py\", line 916, in map_structure\n",
      "    return pack_sequence_as(  File \"c:\\users\\aleena\\appdata\\local\\programs\\python\\python38\\lib\\site-packages\\tensorflow\\python\\util\\nest.py\", line 917, in <listcomp>\n",
      "    structure[0], [func(*x) for x in entries],  File \"c:\\users\\aleena\\appdata\\local\\programs\\python\\python38\\lib\\site-packages\\tensorflow_addons\\seq2seq\\decoder.py\", line 506, in <lambda>\n",
      "    lambda ta, out: ta.write(time, out), outputs_ta, emit  File \"c:\\users\\aleena\\appdata\\local\\programs\\python\\python38\\lib\\site-packages\\tensorflow\\python\\util\\tf_should_use.py\", line 243, in wrapped\n",
      "    return _add_should_use_warning(fn(*args, **kwargs),\n",
      "==================================\n"
     ]
    },
    {
     "name": "stderr",
     "output_type": "stream",
     "text": [
      "Not able to transliterate दिल मेरा चुराया क्यूँ within 10 seconds, exiting with Function transliterate (args=('दिल मेरा चुराया क्यूँ', 1024, <keras.preprocessing.text.Tokenizer object at 0x0000019ADEBAEA00>, <keras.preprocessing.text.Tokenizer object at 0x0000019ADEBAE5E0>, <indicate.encoder.Encoder object at 0x0000019ADEBAE0A0>, <indicate.decoder.Decoder object at 0x0000019AE5D29370>, 47)) (kwargs={}) timed out after 10.000000 seconds.\n",
      "\n"
     ]
    },
    {
     "name": "stdout",
     "output_type": "stream",
     "text": [
      "ERROR:tensorflow:==================================\n",
      "Object was never used (type <class 'tensorflow.python.ops.tensor_array_ops.TensorArray'>):\n",
      "<tensorflow.python.ops.tensor_array_ops.TensorArray object at 0x0000019AE62B62B0>\n",
      "If you want to mark it as used call its \"mark_used()\" method.\n",
      "It was originally created here:\n",
      "  File \"c:\\users\\aleena\\appdata\\local\\programs\\python\\python38\\lib\\site-packages\\tensorflow_addons\\seq2seq\\decoder.py\", line 508, in body\n",
      "    return (  File \"c:\\users\\aleena\\appdata\\local\\programs\\python\\python38\\lib\\site-packages\\tensorflow\\python\\util\\nest.py\", line 916, in map_structure\n",
      "    return pack_sequence_as(  File \"c:\\users\\aleena\\appdata\\local\\programs\\python\\python38\\lib\\site-packages\\tensorflow\\python\\util\\nest.py\", line 917, in <listcomp>\n",
      "    structure[0], [func(*x) for x in entries],  File \"c:\\users\\aleena\\appdata\\local\\programs\\python\\python38\\lib\\site-packages\\tensorflow_addons\\seq2seq\\decoder.py\", line 506, in <lambda>\n",
      "    lambda ta, out: ta.write(time, out), outputs_ta, emit  File \"c:\\users\\aleena\\appdata\\local\\programs\\python\\python38\\lib\\site-packages\\tensorflow\\python\\util\\tf_should_use.py\", line 243, in wrapped\n",
      "    return _add_should_use_warning(fn(*args, **kwargs),\n",
      "==================================\n",
      "ERROR:tensorflow:==================================\n",
      "Object was never used (type <class 'tensorflow.python.ops.tensor_array_ops.TensorArray'>):\n",
      "<tensorflow.python.ops.tensor_array_ops.TensorArray object at 0x0000019AE62B6130>\n",
      "If you want to mark it as used call its \"mark_used()\" method.\n",
      "It was originally created here:\n",
      "  File \"c:\\users\\aleena\\appdata\\local\\programs\\python\\python38\\lib\\site-packages\\tensorflow_addons\\seq2seq\\decoder.py\", line 508, in body\n",
      "    return (  File \"c:\\users\\aleena\\appdata\\local\\programs\\python\\python38\\lib\\site-packages\\tensorflow\\python\\util\\nest.py\", line 916, in map_structure\n",
      "    return pack_sequence_as(  File \"c:\\users\\aleena\\appdata\\local\\programs\\python\\python38\\lib\\site-packages\\tensorflow\\python\\util\\nest.py\", line 917, in <listcomp>\n",
      "    structure[0], [func(*x) for x in entries],  File \"c:\\users\\aleena\\appdata\\local\\programs\\python\\python38\\lib\\site-packages\\tensorflow_addons\\seq2seq\\decoder.py\", line 506, in <lambda>\n",
      "    lambda ta, out: ta.write(time, out), outputs_ta, emit  File \"c:\\users\\aleena\\appdata\\local\\programs\\python\\python38\\lib\\site-packages\\tensorflow\\python\\util\\tf_should_use.py\", line 243, in wrapped\n",
      "    return _add_should_use_warning(fn(*args, **kwargs),\n",
      "==================================\n"
     ]
    }
   ],
   "source": [
    "# transliterate song_name and artist to english for easier search\n",
    "newDf = []\n",
    "for i in df['song_name']:\n",
    "    newDf.append(transliterate.hindi2english(i))\n",
    "    \n",
    "newDf = []\n",
    "for i in df['artist']:\n",
    "    newDf.append(transliterate.hindi2english(i))\n",
    "df['artist'] = newDf "
   ]
  },
  {
   "cell_type": "code",
   "execution_count": 34,
   "id": "12c97026",
   "metadata": {},
   "outputs": [],
   "source": []
  },
  {
   "cell_type": "code",
   "execution_count": 43,
   "id": "d6213cf6",
   "metadata": {
    "scrolled": false
   },
   "outputs": [],
   "source": [
    "filtered = df[df['song_name'] != '' ]\n",
    "fullyFiltered = filtered[filtered['artist'] != '']\n",
    "fullyFiltered.to_csv('transliterated_data.csv')"
   ]
  },
  {
   "cell_type": "code",
   "execution_count": 50,
   "id": "f6c82054",
   "metadata": {
    "scrolled": true
   },
   "outputs": [],
   "source": [
    "a = 'hello'\n"
   ]
  },
  {
   "cell_type": "code",
   "execution_count": 56,
   "id": "e87160af",
   "metadata": {},
   "outputs": [
    {
     "data": {
      "text/html": [
       "<div>\n",
       "<style scoped>\n",
       "    .dataframe tbody tr th:only-of-type {\n",
       "        vertical-align: middle;\n",
       "    }\n",
       "\n",
       "    .dataframe tbody tr th {\n",
       "        vertical-align: top;\n",
       "    }\n",
       "\n",
       "    .dataframe thead th {\n",
       "        text-align: right;\n",
       "    }\n",
       "</style>\n",
       "<table border=\"1\" class=\"dataframe\">\n",
       "  <thead>\n",
       "    <tr style=\"text-align: right;\">\n",
       "      <th></th>\n",
       "      <th>level_0</th>\n",
       "      <th>song_name</th>\n",
       "      <th>type</th>\n",
       "      <th>artist</th>\n",
       "      <th>lyrics</th>\n",
       "      <th>id</th>\n",
       "    </tr>\n",
       "  </thead>\n",
       "  <tbody>\n",
       "    <tr>\n",
       "      <th>0</th>\n",
       "      <td>0</td>\n",
       "      <td>neelanillaiyambar</td>\n",
       "      <td>romantic</td>\n",
       "      <td>kishor kumar</td>\n",
       "      <td>नीले नीले अम्बर पर चाँद जब आये प्यार बरसाए हमको तरसाए   नीले नीले अम्बर पर चाँद जब आये प्यार बरसाए हमको तरसाए  ऐसा कोई साथी हो ऐसा कोई प्रेमी हो प्यास दिल की बुझा जाए  ऊँचे ऊँचे पर्बत जब चुमते हैं अम्बर को प्यासा-प्यासा अम्बर जब चूमता है सागर को प्यार से कसने को बाहों में बसने को दिल मेरा ललचाये कोई तो आ जाए  ऐसा कोई साथी हो ऐसा कोई प्रेमी हो प्यास दिल की बुझा जाए  ठन्डे-ठन्डे झोंके जब बालों क...</td>\n",
       "      <td>1</td>\n",
       "    </tr>\n",
       "    <tr>\n",
       "      <th>1</th>\n",
       "      <td>1</td>\n",
       "      <td>akkad bakkar</td>\n",
       "      <td>party</td>\n",
       "      <td>badshah</td>\n",
       "      <td>अक्कड़ बक्कड़ बॉम्बे बो 80, 90 पुरे 100 रात के बज गए पौने दो जो होता है होने दो अक्कड़ बक्कड़ बॉम्बे बो 80, 90 पुरे 100 रात के बज गए पौने दो जो होता है होने दो अक्कड़ बक्कड़ बॉम्बे बो 80, 90 पुरे 100 रात के बज गए पौने दो जो होता है होने दो अक्कड़ बक्कड़ बॉम्बे बो 80, 90 पुरे 100 रात के बज गए पौने दो जो होता है होने दो  अक्कड़ बक्कड़ अक्कड़ बक्कड़ अक्कड़ बक्कड़ अक्कड़ बक्कड़..  कुड़ी तू इक लोनल...</td>\n",
       "      <td>2</td>\n",
       "    </tr>\n",
       "    <tr>\n",
       "      <th>2</th>\n",
       "      <td>2</td>\n",
       "      <td>akhiya</td>\n",
       "      <td>sad</td>\n",
       "      <td>popon</td>\n",
       "      <td>ओ थक गेया अँखियाँ ओ जग्ग दियाँ अखियाँ माहियाँ ना आया लभदियाँ अँखियाँहाये प्यार दियाँ क़समाँ खा के छड़ गया तू इश्क़ भुला के दस्स जा तू मेरा की क़ुसूर वे तू अखियाँ नू कहने दे तू अखियाँ नू बहने दे जो दर्द सतावें तेनू ना दिल विच रहने दे  तू ग़ल्ल कन्नु समझावे प्यार किन्ना तड़पावे जब तक ना आवे माही तू अखियाँ नू रोने दे  ल ला ला ला..  तेरे वे तेरे इंतेज़ार में दिल हो गया फ़क़ीरा प्यार में तुझको भुला...</td>\n",
       "      <td>3</td>\n",
       "    </tr>\n",
       "    <tr>\n",
       "      <th>3</th>\n",
       "      <td>3</td>\n",
       "      <td>angase anga lagana</td>\n",
       "      <td>romantic</td>\n",
       "      <td>alaka yaganik</td>\n",
       "      <td>अरे जो जी में आए.. अरे जो जी में आए.. तुम आज कर लो चाहो जिसे इन बाँहो में भर लो अंग से अंग लगाना सजन हमें ऐसे रंग लगाना अंग से अंग लगाना सजन हमें ऐसे रंग लगाना गालों से ये गाल लगा के नैनों से ये नैन मिला के होली आज मनाना सजन हमें ऐसे रंग लगाना  अंग से अंग लगाना सजन हमें ऐसे रंग लगाना अंग से अंग लगाना सजन हमें ऐसे रंग लगाना     ऊपर ऊपर रंग लगय्यो, ना करिओ कुछ नीचे मोसे कुछ ना बोल, खड़ी रे चुप स...</td>\n",
       "      <td>4</td>\n",
       "    </tr>\n",
       "    <tr>\n",
       "      <th>4</th>\n",
       "      <td>4</td>\n",
       "      <td>agar zindagi has</td>\n",
       "      <td>romantic</td>\n",
       "      <td>asha bhosale</td>\n",
       "      <td>अगर ज़िन्दगी हो तो तेरे संग हो अगर ज़िन्दगी हो तो तेरे संग हो अगर मौत हो तो वो हो तुझसे पहले अगर मौत हो तो वो हो तुझसे पहले अगर ज़िन्दगी हो तो तेरे संग हो अगर ज़िन्दगी हो तो तेरे संग हो अगर मौत हो तो वो हो तुझसे पहले अगर मौत हो तो वो हो तुझसे पहले बलमा.. बलमा.. बलमा.. बलमा.. अब दिल लगता कही ना तेरे बिना अब दिल लगता कही ना तेरे बिना मुश्किल होगा जीना तेरे बिना आ मिलके वादा करले जब तक होगा दम मे...</td>\n",
       "      <td>5</td>\n",
       "    </tr>\n",
       "    <tr>\n",
       "      <th>...</th>\n",
       "      <td>...</td>\n",
       "      <td>...</td>\n",
       "      <td>...</td>\n",
       "      <td>...</td>\n",
       "      <td>...</td>\n",
       "      <td>...</td>\n",
       "    </tr>\n",
       "    <tr>\n",
       "      <th>255</th>\n",
       "      <td>780</td>\n",
       "      <td>har jani a</td>\n",
       "      <td>sad</td>\n",
       "      <td>mehtab</td>\n",
       "      <td>कई वारि सोचा ऐवे कादा प्यार हो गया होया वि ता होया इन्ना ज्यादा प्यार हो गया ओहदे बिना रहना लग्गे बड़ा औखा चुप रह के सार जानी आ  झट आँख देंदे तोड़ देनी यारी ओथे फे मैं हार जानी आ झट आँख देंदे तोड़ देनी यारी ओथे फे मैं हार जानी आ इक दो वारि गल बंद जदो होई सी ओहदे कॉड जाके हाथ जोड़ जोड़ रोई सी मैं ओहदे कॉड जाके हाथ जोड़ जोड़ रोई सी ओहनू लाग गयीअ मेरी कमजोरी ताही मैं सहार जानी आ  झट आँख देंदे तोड़ देनी य...</td>\n",
       "      <td>781</td>\n",
       "    </tr>\n",
       "    <tr>\n",
       "      <th>256</th>\n",
       "      <td>784</td>\n",
       "      <td>hukka bar</td>\n",
       "      <td>party</td>\n",
       "      <td></td>\n",
       "      <td>हो ओ … तेरी अखियों का वार जैसे शेर का शिकार तेरा हुस्न धुयंदार जैसे जलता सिगार तेरी अखियों का वार जैसे शेर का शिकार तेरा हुस्न धुयंदार जैसे जलता सिगार तेरे प्यार का नशा कभी आर कभी पार तेरा प्यार प्यार प्यार हुक्का बार तेरा प्यार प्यार प्यार हुक्का बार तेरा प्यार प्यार प्यार हुक्का बार बार बार तेरा प्यार प्यार प्यार हुक्का बार तेरा प्यार प्यार प्यार हुक्का बार तेरा प्यार प्यार प्यार हुक्का बार ...</td>\n",
       "      <td>785</td>\n",
       "    </tr>\n",
       "    <tr>\n",
       "      <th>257</th>\n",
       "      <td>785</td>\n",
       "      <td>husna parcham</td>\n",
       "      <td>party</td>\n",
       "      <td>raja kumari</td>\n",
       "      <td>हाथ में रात ये बाकी है बात नापाक वफ़ा की है संदली सी पुरवाई साथ है ओ तू है नाकाम मोहब्बत में मैं जलूं प्यार की सिद्दत में धुंदली सी रुसवाई साथ है काम तू आजा मेरे सोच ना यार सवेरे छोड़ दूंगी मैं घर पे करता है क्यूँ गम हुस्न परचम, हुस्न परचम लहराया यार दमा-दम-दम हुस्न परचम, हुस्न परचम लहराया यार दमा-दम-दम हुस्न परचम, हुस्न परचम लहराया यार दिखा दम-ख़म हुस्न परचम.. Bang like a drum work my body आज रा...</td>\n",
       "      <td>786</td>\n",
       "    </tr>\n",
       "    <tr>\n",
       "      <th>258</th>\n",
       "      <td>787</td>\n",
       "      <td>ha gujarish</td>\n",
       "      <td>romantic</td>\n",
       "      <td>sonou neegam</td>\n",
       "      <td>हूँमम.. ओ.. तू मेरी अधूरी प्यास प्यास तू आ गयी मन को रास रास अब तो..  तू मेरी अधूरी प्यास प्यास तू आ गयी मन को रास रास अब तो तू आजा पास पास है गुजारिश  है हाल तो दिल का तंग तंग तू रंग जा मेरे रंग रंग बस चलना मेरे संग संग है गुजारिश  कह दे तू हाँ तो जिंदगी झरनों सी छूट के हँसेगी मोती होंगे मोती राहों में येई येई येई  तू मेरी अधूरी प्यास प्यास तू आ गयी मन को रास रास अब तो तू आजा पास पास है गुजार...</td>\n",
       "      <td>788</td>\n",
       "    </tr>\n",
       "    <tr>\n",
       "      <th>259</th>\n",
       "      <td>789</td>\n",
       "      <td>ho gaya haya haya tuzhako</td>\n",
       "      <td>romantic</td>\n",
       "      <td>latha mangeshkeshkar</td>\n",
       "      <td>आई अब की साल दिवाली मुंह पर अपने खून मले आई अब की साल दिवाली चारों तरफ है घोर अंधेरा घर में कैसे दीप जले आई अब की साल दिवाली बालक तरसे फुलझड़ियों को दीपों को दीवारें, दीपों को दीवारें माँ की गोदी सूनी सूनी आँगन कैसे संवारे आँगन कैसे संवारे राह में उनकी जाओ उजालों बन में जिनकी शाम ढले आई अब की साल दिवाली  जिनके दम से जगमग जगमग करती थी ये रातें चोरी चोरी हो जाती थी मन से मन की बातें मन से मन की...</td>\n",
       "      <td>790</td>\n",
       "    </tr>\n",
       "  </tbody>\n",
       "</table>\n",
       "<p>260 rows × 6 columns</p>\n",
       "</div>"
      ],
      "text/plain": [
       "     level_0                  song_name      type                artist  \\\n",
       "0          0          neelanillaiyambar  romantic          kishor kumar   \n",
       "1          1               akkad bakkar     party               badshah   \n",
       "2          2                     akhiya       sad                 popon   \n",
       "3          3         angase anga lagana  romantic         alaka yaganik   \n",
       "4          4           agar zindagi has  romantic          asha bhosale   \n",
       "..       ...                        ...       ...                   ...   \n",
       "255      780                 har jani a       sad                mehtab   \n",
       "256      784                 hukka bar      party                         \n",
       "257      785              husna parcham     party           raja kumari   \n",
       "258      787               ha gujarish   romantic         sonou neegam    \n",
       "259      789  ho gaya haya haya tuzhako  romantic  latha mangeshkeshkar   \n",
       "\n",
       "                                                                                                                                                                                                                                                                                                                                                                                                              lyrics  \\\n",
       "0    नीले नीले अम्बर पर चाँद जब आये प्यार बरसाए हमको तरसाए   नीले नीले अम्बर पर चाँद जब आये प्यार बरसाए हमको तरसाए  ऐसा कोई साथी हो ऐसा कोई प्रेमी हो प्यास दिल की बुझा जाए  ऊँचे ऊँचे पर्बत जब चुमते हैं अम्बर को प्यासा-प्यासा अम्बर जब चूमता है सागर को प्यार से कसने को बाहों में बसने को दिल मेरा ललचाये कोई तो आ जाए  ऐसा कोई साथी हो ऐसा कोई प्रेमी हो प्यास दिल की बुझा जाए  ठन्डे-ठन्डे झोंके जब बालों क...   \n",
       "1    अक्कड़ बक्कड़ बॉम्बे बो 80, 90 पुरे 100 रात के बज गए पौने दो जो होता है होने दो अक्कड़ बक्कड़ बॉम्बे बो 80, 90 पुरे 100 रात के बज गए पौने दो जो होता है होने दो अक्कड़ बक्कड़ बॉम्बे बो 80, 90 पुरे 100 रात के बज गए पौने दो जो होता है होने दो अक्कड़ बक्कड़ बॉम्बे बो 80, 90 पुरे 100 रात के बज गए पौने दो जो होता है होने दो  अक्कड़ बक्कड़ अक्कड़ बक्कड़ अक्कड़ बक्कड़ अक्कड़ बक्कड़..  कुड़ी तू इक लोनल...   \n",
       "2    ओ थक गेया अँखियाँ ओ जग्ग दियाँ अखियाँ माहियाँ ना आया लभदियाँ अँखियाँहाये प्यार दियाँ क़समाँ खा के छड़ गया तू इश्क़ भुला के दस्स जा तू मेरा की क़ुसूर वे तू अखियाँ नू कहने दे तू अखियाँ नू बहने दे जो दर्द सतावें तेनू ना दिल विच रहने दे  तू ग़ल्ल कन्नु समझावे प्यार किन्ना तड़पावे जब तक ना आवे माही तू अखियाँ नू रोने दे  ल ला ला ला..  तेरे वे तेरे इंतेज़ार में दिल हो गया फ़क़ीरा प्यार में तुझको भुला...   \n",
       "3     अरे जो जी में आए.. अरे जो जी में आए.. तुम आज कर लो चाहो जिसे इन बाँहो में भर लो अंग से अंग लगाना सजन हमें ऐसे रंग लगाना अंग से अंग लगाना सजन हमें ऐसे रंग लगाना गालों से ये गाल लगा के नैनों से ये नैन मिला के होली आज मनाना सजन हमें ऐसे रंग लगाना  अंग से अंग लगाना सजन हमें ऐसे रंग लगाना अंग से अंग लगाना सजन हमें ऐसे रंग लगाना     ऊपर ऊपर रंग लगय्यो, ना करिओ कुछ नीचे मोसे कुछ ना बोल, खड़ी रे चुप स...   \n",
       "4    अगर ज़िन्दगी हो तो तेरे संग हो अगर ज़िन्दगी हो तो तेरे संग हो अगर मौत हो तो वो हो तुझसे पहले अगर मौत हो तो वो हो तुझसे पहले अगर ज़िन्दगी हो तो तेरे संग हो अगर ज़िन्दगी हो तो तेरे संग हो अगर मौत हो तो वो हो तुझसे पहले अगर मौत हो तो वो हो तुझसे पहले बलमा.. बलमा.. बलमा.. बलमा.. अब दिल लगता कही ना तेरे बिना अब दिल लगता कही ना तेरे बिना मुश्किल होगा जीना तेरे बिना आ मिलके वादा करले जब तक होगा दम मे...   \n",
       "..                                                                                                                                                                                                                                                                                                                                                                                                               ...   \n",
       "255  कई वारि सोचा ऐवे कादा प्यार हो गया होया वि ता होया इन्ना ज्यादा प्यार हो गया ओहदे बिना रहना लग्गे बड़ा औखा चुप रह के सार जानी आ  झट आँख देंदे तोड़ देनी यारी ओथे फे मैं हार जानी आ झट आँख देंदे तोड़ देनी यारी ओथे फे मैं हार जानी आ इक दो वारि गल बंद जदो होई सी ओहदे कॉड जाके हाथ जोड़ जोड़ रोई सी मैं ओहदे कॉड जाके हाथ जोड़ जोड़ रोई सी ओहनू लाग गयीअ मेरी कमजोरी ताही मैं सहार जानी आ  झट आँख देंदे तोड़ देनी य...   \n",
       "256  हो ओ … तेरी अखियों का वार जैसे शेर का शिकार तेरा हुस्न धुयंदार जैसे जलता सिगार तेरी अखियों का वार जैसे शेर का शिकार तेरा हुस्न धुयंदार जैसे जलता सिगार तेरे प्यार का नशा कभी आर कभी पार तेरा प्यार प्यार प्यार हुक्का बार तेरा प्यार प्यार प्यार हुक्का बार तेरा प्यार प्यार प्यार हुक्का बार बार बार तेरा प्यार प्यार प्यार हुक्का बार तेरा प्यार प्यार प्यार हुक्का बार तेरा प्यार प्यार प्यार हुक्का बार ...   \n",
       "257  हाथ में रात ये बाकी है बात नापाक वफ़ा की है संदली सी पुरवाई साथ है ओ तू है नाकाम मोहब्बत में मैं जलूं प्यार की सिद्दत में धुंदली सी रुसवाई साथ है काम तू आजा मेरे सोच ना यार सवेरे छोड़ दूंगी मैं घर पे करता है क्यूँ गम हुस्न परचम, हुस्न परचम लहराया यार दमा-दम-दम हुस्न परचम, हुस्न परचम लहराया यार दमा-दम-दम हुस्न परचम, हुस्न परचम लहराया यार दिखा दम-ख़म हुस्न परचम.. Bang like a drum work my body आज रा...   \n",
       "258  हूँमम.. ओ.. तू मेरी अधूरी प्यास प्यास तू आ गयी मन को रास रास अब तो..  तू मेरी अधूरी प्यास प्यास तू आ गयी मन को रास रास अब तो तू आजा पास पास है गुजारिश  है हाल तो दिल का तंग तंग तू रंग जा मेरे रंग रंग बस चलना मेरे संग संग है गुजारिश  कह दे तू हाँ तो जिंदगी झरनों सी छूट के हँसेगी मोती होंगे मोती राहों में येई येई येई  तू मेरी अधूरी प्यास प्यास तू आ गयी मन को रास रास अब तो तू आजा पास पास है गुजार...   \n",
       "259   आई अब की साल दिवाली मुंह पर अपने खून मले आई अब की साल दिवाली चारों तरफ है घोर अंधेरा घर में कैसे दीप जले आई अब की साल दिवाली बालक तरसे फुलझड़ियों को दीपों को दीवारें, दीपों को दीवारें माँ की गोदी सूनी सूनी आँगन कैसे संवारे आँगन कैसे संवारे राह में उनकी जाओ उजालों बन में जिनकी शाम ढले आई अब की साल दिवाली  जिनके दम से जगमग जगमग करती थी ये रातें चोरी चोरी हो जाती थी मन से मन की बातें मन से मन की...   \n",
       "\n",
       "      id  \n",
       "0      1  \n",
       "1      2  \n",
       "2      3  \n",
       "3      4  \n",
       "4      5  \n",
       "..   ...  \n",
       "255  781  \n",
       "256  785  \n",
       "257  786  \n",
       "258  788  \n",
       "259  790  \n",
       "\n",
       "[260 rows x 6 columns]"
      ]
     },
     "execution_count": 56,
     "metadata": {},
     "output_type": "execute_result"
    }
   ],
   "source": [
    "df"
   ]
  },
  {
   "cell_type": "code",
   "execution_count": null,
   "id": "bd894093",
   "metadata": {},
   "outputs": [],
   "source": []
  }
 ],
 "metadata": {
  "kernelspec": {
   "display_name": "Python 3 (ipykernel)",
   "language": "python",
   "name": "python3"
  },
  "language_info": {
   "codemirror_mode": {
    "name": "ipython",
    "version": 3
   },
   "file_extension": ".py",
   "mimetype": "text/x-python",
   "name": "python",
   "nbconvert_exporter": "python",
   "pygments_lexer": "ipython3",
   "version": "3.8.0"
  }
 },
 "nbformat": 4,
 "nbformat_minor": 5
}
