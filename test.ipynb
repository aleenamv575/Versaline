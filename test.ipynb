{
 "cells": [
  {
   "cell_type": "code",
   "execution_count": 19,
   "id": "cd8c79ce",
   "metadata": {},
   "outputs": [],
   "source": [
    "import numpy as np # linear algebra\n",
    "import pandas as pd # data processing, CSV file I/O (e.g. pd.read_csv)\n",
    "from inltk.inltk import setup\n",
    "from inltk.inltk import tokenize\n",
    "from collections import Counter\n",
    "import pandas as pd\n",
    "import re\n",
    "from langdetect import detect\n",
    "import matplotlib.pyplot as plt\n",
    "from sklearn.feature_extraction.text import TfidfVectorizer\n",
    "from sklearn.metrics.pairwise import linear_kernel\n",
    "from collections import Counter\n",
    "import seaborn as sns\n",
    "import os\n",
    "import requests\n",
    "import json\n",
    "import spotipy\n",
    "\n",
    "from spotipy.oauth2 import SpotifyClientCredentials # Recommendation Generator\n",
    "\n",
    "\n",
    "class HindiRecommender:\n",
    "    def __init__(self):\n",
    "        sns.set(rc={'figure.figsize':(10,7)})\n",
    "        pd.set_option('max_colwidth', 400)\n",
    "        self.df = pd.read_csv(os.path.join(os.getcwd(), 'data/transliterated_data.csv'))\n",
    "        self.df.drop(['Unnamed: 0'] , axis = 1, inplace = True)\n",
    "        self.df.drop(['level_0'] , axis = 1, inplace = True)\n",
    "        print(self.df.columns)\n",
    "        self.df = self.df.drop_duplicates(subset='artist', keep='first')\n",
    "        self.df = self.df.reset_index(level=0)\n",
    "        self.df.rename(columns = {'Song name'  : 'song_name'}, inplace = True)\n",
    "\n",
    "        self.train()\n",
    "\n",
    "    # Calculating cosine similarities from lyrics and storing similar song results in results dict\n",
    "\n",
    "    def train(self):\n",
    "        self.tf = TfidfVectorizer(analyzer='word', min_df=0, max_features= 100 , lowercase=True)\n",
    "        self.tfidf_matrix = self.tf.fit_transform(self.df['lyrics'])\n",
    "\n",
    "        self.cosine_similarities = linear_kernel(self.tfidf_matrix, self.tfidf_matrix)\n",
    "        self.results = {}\n",
    "\n",
    "        for idx, row in self.df.iterrows():\n",
    "            similar_indices = self.cosine_similarities[idx].argsort()[:-100:-1]\n",
    "            similar_items = [(self.cosine_similarities[idx][i], self.df['id'][i]) for i in similar_indices]\n",
    "            self.results[row['id']] = similar_items[1:]\n",
    "\n",
    "\n",
    "\n",
    "    def item(self,id):\n",
    "        return self.df.loc[self.df['id'] == id]['song_name']\n",
    "        \n",
    "    def get_musixmatch_api_url(self, url):\n",
    "            return 'http://api.musixmatch.com/ws/1.1/{}&format=json&apikey={}'.format(url, \\\n",
    "            os.getenv(\"MUSIX_API_KEY\"))\n",
    "    def find_track_info(self, artist, title):\n",
    "        url = 'matcher.track.get?q_track={}&q_artist={}'.format(title,artist)\n",
    "        matched_res = requests.get(self.get_musixmatch_api_url(url))\n",
    "        matched_data = json.loads(matched_res.text)\n",
    "\n",
    "        if matched_data[\"message\"][\"header\"][\"status_code\"] == 200:\n",
    "            #Get initial Musixmatch information\n",
    "            artist = matched_data[\"message\"][\"body\"][\"track\"][\"artist_name\"]\n",
    "            title = matched_data[\"message\"][\"body\"][\"track\"][\"track_name\"]\n",
    "            track_id = matched_data[\"message\"][\"body\"][\"track\"][\"track_id\"]\n",
    "\n",
    "            #Access Spotify API\n",
    "            client_credentials_manager = SpotifyClientCredentials(\\\n",
    "            client_id=os.getenv(\"SPOTIFY_CLIENT_ID\"), \\\n",
    "            client_secret=os.getenv(\"SPOTIFY_CLIENT_SECRET\"))\n",
    "            spotify = spotipy.Spotify(client_credentials_manager=client_credentials_manager)\n",
    "\n",
    "            #Get album art and a preview url from Spotify\n",
    "            results = spotify.search(q='track:' + title + \\\n",
    "            ' artist:' + artist, type='track')\n",
    "            out = {\"artist\" : artist, \"name\" : title}\n",
    "            try:\n",
    "                track = results['tracks']['items'][0]\n",
    "                out[\"image_url\"] = track[\"album\"][\"images\"][1][\"url\"]\n",
    "                out[\"preview_url\"] = track[\"preview_url\"]\n",
    "                out[\"spotify_url\"] = track['external_urls']['spotify']\n",
    "                \n",
    "                return out\n",
    "            except:\n",
    "                return False\n",
    "\n",
    "    def recommend(self, artist, song_name, num):\n",
    "        # filter df to find id of the song with name and artist\n",
    "        song = self.df.query('song_name == @song_name and artist == @artist')\n",
    "        # if doesnt exist, return False for now TODO : change this..\n",
    "        # if exists, return the recommendations\n",
    "        if(not song.empty):\n",
    "            id = song['id']\n",
    "            id = id.item()\n",
    "            recs = self.results[id][:num]\n",
    "            i=0\n",
    "            recommendations = []\n",
    "            for rec in recs:\n",
    "                track = self.df.query('id==@rec[1]')\n",
    "                artist = str(track[\"artist\"].values[0]) \n",
    "                track =str(track[\"song_name\"].values[0])\n",
    "                newRecommendation = self.find_track_info(artist, track)\n",
    "                if(newRecommendation):\n",
    "                    recommendations.append(newRecommendation)\n",
    "                else:\n",
    "                    pass\n",
    "            return(recommendations)\n",
    "        else:\n",
    "            False\n",
    "\n",
    "    \n",
    "    def addRow(self, song_name, type, artist, lyrics):\n",
    "        id = len(self.df['id'])\n",
    "        newRow = [0,song_name, type, artist, lyrics, id]\n",
    "        print(len(self.df.loc[len(self.df['id']) - 1]))\n",
    "        # add the new song data to the df\n",
    "        self.df.loc[len(self.df['id'])] = newRow\n",
    "        #train again\n",
    "        self.train()\n",
    "        "
   ]
  },
  {
   "cell_type": "code",
   "execution_count": 20,
   "id": "93706983",
   "metadata": {},
   "outputs": [
    {
     "name": "stdout",
     "output_type": "stream",
     "text": [
      "Index(['song_name', 'type', 'artist', 'lyrics', 'id'], dtype='object')\n",
      "6\n"
     ]
    }
   ],
   "source": [
    "t = HindiRecommender()\n",
    "t.addRow(song_name = 'kesariya', type = 'romantic', artist =  'arijit singh', lyrics =  '''मुझको... इतना बताये कोई कैसे तुझसे दिल ना लगाए कोई रब्बा ने तुझको बनाने में कर दी है हुस्न की खाली तिजोरियाँ काजल की सिहाई से लिखी है तूने जाने कितनो की लव स्टोरियाँ केसरिया तेरा इश्क़ है पिया रंग जाऊं जो मैं हाथ लगाऊँ दिन बीते सारा तेरी फ़िक्र में रैन सारी तेरी खैर मनाऊँ शिवा... ईशा का मतलब जानते हो तुम ? पार्वती अब शिवा का साथ पार्वती नही देगी तो कौन देगा पतझड़ के मौसम में भी रंगी चनारो जैसी झनके सन्नाटो में तू वीना के तारो जैसी... हम्म... सदियों से भी लम्बी ये मन की अमावसे है और तू फुलझड़ियों वाले त्योहारों जैसी चंदा भी दीवाना है तेरा जलती है तुझसे सारी चकोरियाँ... काजल की सिहाई से लिखी है तूने जाने कितनो की लव स्टोरियाँ... लव स्टोरियाँ... केसरिया तेरा इश्क़ है पिया रंग जाऊं जो मैं हाथ लगाऊँ दिन बीते सारा तेरी फ़िक्र में रैन सारी तेरी खैर मनाऊँ केसरिया तेरा इश्क़ है पिया इश्क़ है पिया केसरिया तेरा इश्क़ है पिया इश्क़ है पिया केसरिया तेरा''')\n"
   ]
  },
  {
   "cell_type": "code",
   "execution_count": 27,
   "id": "5f5a2af0",
   "metadata": {},
   "outputs": [],
   "source": [
    "test = t.recommend('kishor kumar','neelanillaiyambar', 3)"
   ]
  },
  {
   "cell_type": "code",
   "execution_count": 26,
   "id": "229d25af",
   "metadata": {},
   "outputs": [
    {
     "data": {
      "text/plain": [
       "[{'artist': 'Akhil & Dhvani Bhanushali',\n",
       "  'name': 'Duniyaa (From \"Luka Chuppi\")',\n",
       "  'image_url': 'https://i.scdn.co/image/ab67616d00001e02c3b01eb89e34e1f2838e425a',\n",
       "  'preview_url': 'https://p.scdn.co/mp3-preview/653f3afac1a294560f5a20ce1dce71fa5f186da1?cid=ded2ad68754742df8ef897de2e835c0e',\n",
       "  'spotify_url': 'https://open.spotify.com/track/3s3J70eRpRH2hcYq4mEXTJ'},\n",
       " {'artist': 'Shiraz Uppal',\n",
       "  'name': 'Mere Khuda',\n",
       "  'image_url': 'https://i.scdn.co/image/ab67616d00001e02cd8e501bd6887a5482d11296',\n",
       "  'preview_url': 'https://p.scdn.co/mp3-preview/f712bc659288ba899689ebcd0941336d279a3baf?cid=ded2ad68754742df8ef897de2e835c0e',\n",
       "  'spotify_url': 'https://open.spotify.com/track/46FAFrZrQHLte6NEN4yNbB'}]"
      ]
     },
     "execution_count": 26,
     "metadata": {},
     "output_type": "execute_result"
    }
   ],
   "source": [
    "test"
   ]
  },
  {
   "cell_type": "code",
   "execution_count": 4,
   "id": "02d76774",
   "metadata": {},
   "outputs": [
    {
     "name": "stdout",
     "output_type": "stream",
     "text": [
      "6\n"
     ]
    }
   ],
   "source": []
  },
  {
   "cell_type": "code",
   "execution_count": 34,
   "id": "3721d6b9",
   "metadata": {},
   "outputs": [],
   "source": [
    "def get_musixmatch_api_url(url):\n",
    "        return 'http://api.musixmatch.com/ws/1.1/{}&format=json&apikey={}'.format(url, \\\n",
    "        os.getenv(\"MUSIX_API_KEY\"))\n",
    "def find_track_info(artist, title):\n",
    "    url = 'matcher.track.get?q_track={}&q_artist={}'.format(title,artist)\n",
    "    matched_res = requests.get(get_musixmatch_api_url(url))\n",
    "    matched_data = json.loads(matched_res.text)\n",
    "\n",
    "    if matched_data[\"message\"][\"header\"][\"status_code\"] == 200:\n",
    "        #Get initial Musixmatch information\n",
    "        artist = matched_data[\"message\"][\"body\"][\"track\"][\"artist_name\"]\n",
    "        title = matched_data[\"message\"][\"body\"][\"track\"][\"track_name\"]\n",
    "        track_id = matched_data[\"message\"][\"body\"][\"track\"][\"track_id\"]\n",
    "\n",
    "        #Access Spotify API\n",
    "        client_credentials_manager = SpotifyClientCredentials(\\\n",
    "        client_id=os.getenv(\"SPOTIFY_CLIENT_ID\"), \\\n",
    "        client_secret=os.getenv(\"SPOTIFY_CLIENT_SECRET\"))\n",
    "        spotify = spotipy.Spotify(client_credentials_manager=client_credentials_manager)\n",
    "\n",
    "        #Get album art and a preview url from Spotify\n",
    "        results = spotify.search(q='id:'+str(track_id), type='track', limit=1)\n",
    "        out = {\"artist\" : artist, \"name\" : title}\n",
    "        print(results)\n",
    "        try:\n",
    "            track = results['tracks']['items'][0]\n",
    "            out[\"image_url\"] = track[\"album\"][\"images\"][1][\"url\"]\n",
    "            out[\"preview_url\"] = track[\"preview_url\"]\n",
    "            out[\"spotify_url\"] = track['external_urls']['spotify']\n",
    "            \n",
    "            return out\n",
    "        except:\n",
    "            return False\n"
   ]
  },
  {
   "cell_type": "code",
   "execution_count": 35,
   "id": "60a9892f",
   "metadata": {},
   "outputs": [
    {
     "name": "stdout",
     "output_type": "stream",
     "text": [
      "{'tracks': {'href': 'https://api.spotify.com/v1/search?query=id%3A236102864&type=track&offset=0&limit=1', 'items': [{'album': {'album_type': 'single', 'artists': [{'external_urls': {'spotify': 'https://open.spotify.com/artist/23fqKkggKUBHNkbKtXEls4'}, 'href': 'https://api.spotify.com/v1/artists/23fqKkggKUBHNkbKtXEls4', 'id': '23fqKkggKUBHNkbKtXEls4', 'name': 'Kygo', 'type': 'artist', 'uri': 'spotify:artist:23fqKkggKUBHNkbKtXEls4'}], 'available_markets': ['AD', 'AE', 'AG', 'AL', 'AM', 'AO', 'AR', 'AT', 'AU', 'AZ', 'BA', 'BB', 'BD', 'BE', 'BF', 'BG', 'BH', 'BI', 'BJ', 'BN', 'BO', 'BR', 'BS', 'BT', 'BW', 'BY', 'BZ', 'CA', 'CD', 'CG', 'CH', 'CI', 'CL', 'CM', 'CO', 'CR', 'CV', 'CW', 'CY', 'CZ', 'DE', 'DJ', 'DK', 'DM', 'DO', 'DZ', 'EC', 'EE', 'EG', 'ES', 'ET', 'FI', 'FJ', 'FM', 'FR', 'GA', 'GB', 'GD', 'GE', 'GH', 'GM', 'GN', 'GQ', 'GR', 'GT', 'GW', 'GY', 'HK', 'HN', 'HR', 'HT', 'HU', 'ID', 'IE', 'IL', 'IN', 'IQ', 'IS', 'IT', 'JM', 'JO', 'JP', 'KE', 'KG', 'KH', 'KI', 'KM', 'KN', 'KR', 'KW', 'KZ', 'LA', 'LB', 'LC', 'LI', 'LK', 'LR', 'LS', 'LT', 'LU', 'LV', 'LY', 'MA', 'MC', 'MD', 'ME', 'MG', 'MH', 'MK', 'ML', 'MN', 'MO', 'MR', 'MT', 'MU', 'MV', 'MW', 'MX', 'MY', 'MZ', 'NA', 'NE', 'NG', 'NI', 'NL', 'NO', 'NP', 'NR', 'NZ', 'OM', 'PA', 'PE', 'PG', 'PH', 'PK', 'PL', 'PS', 'PT', 'PW', 'PY', 'QA', 'RO', 'RS', 'RW', 'SA', 'SB', 'SC', 'SE', 'SG', 'SI', 'SK', 'SL', 'SM', 'SN', 'SR', 'ST', 'SV', 'SZ', 'TD', 'TG', 'TH', 'TJ', 'TL', 'TN', 'TO', 'TR', 'TT', 'TV', 'TW', 'TZ', 'UA', 'UG', 'US', 'UY', 'UZ', 'VC', 'VE', 'VN', 'VU', 'WS', 'XK', 'ZA', 'ZM', 'ZW'], 'external_urls': {'spotify': 'https://open.spotify.com/album/08lvNATRudyG5K7eEjWk1t'}, 'href': 'https://api.spotify.com/v1/albums/08lvNATRudyG5K7eEjWk1t', 'id': '08lvNATRudyG5K7eEjWk1t', 'images': [{'height': 640, 'url': 'https://i.scdn.co/image/ab67616d0000b27300c2fdeb8b1f508eb3d38212', 'width': 640}, {'height': 300, 'url': 'https://i.scdn.co/image/ab67616d00001e0200c2fdeb8b1f508eb3d38212', 'width': 300}, {'height': 64, 'url': 'https://i.scdn.co/image/ab67616d0000485100c2fdeb8b1f508eb3d38212', 'width': 64}], 'name': 'ID (Ultra Music Festival Anthem)', 'release_date': '2015-02-10', 'release_date_precision': 'day', 'total_tracks': 1, 'type': 'album', 'uri': 'spotify:album:08lvNATRudyG5K7eEjWk1t'}, 'artists': [{'external_urls': {'spotify': 'https://open.spotify.com/artist/23fqKkggKUBHNkbKtXEls4'}, 'href': 'https://api.spotify.com/v1/artists/23fqKkggKUBHNkbKtXEls4', 'id': '23fqKkggKUBHNkbKtXEls4', 'name': 'Kygo', 'type': 'artist', 'uri': 'spotify:artist:23fqKkggKUBHNkbKtXEls4'}], 'available_markets': ['AD', 'AE', 'AG', 'AL', 'AM', 'AO', 'AR', 'AT', 'AU', 'AZ', 'BA', 'BB', 'BD', 'BE', 'BF', 'BG', 'BH', 'BI', 'BJ', 'BN', 'BO', 'BR', 'BS', 'BT', 'BW', 'BY', 'BZ', 'CA', 'CD', 'CG', 'CH', 'CI', 'CL', 'CM', 'CO', 'CR', 'CV', 'CW', 'CY', 'CZ', 'DE', 'DJ', 'DK', 'DM', 'DO', 'DZ', 'EC', 'EE', 'EG', 'ES', 'FI', 'FJ', 'FM', 'FR', 'GA', 'GB', 'GD', 'GE', 'GH', 'GM', 'GN', 'GQ', 'GR', 'GT', 'GW', 'GY', 'HK', 'HN', 'HR', 'HT', 'HU', 'ID', 'IE', 'IL', 'IN', 'IQ', 'IS', 'IT', 'JM', 'JO', 'JP', 'KE', 'KG', 'KH', 'KI', 'KM', 'KN', 'KR', 'KW', 'KZ', 'LA', 'LB', 'LC', 'LI', 'LK', 'LR', 'LS', 'LT', 'LU', 'LV', 'LY', 'MA', 'MC', 'MD', 'ME', 'MG', 'MH', 'MK', 'ML', 'MN', 'MO', 'MR', 'MT', 'MU', 'MV', 'MW', 'MX', 'MY', 'MZ', 'NA', 'NE', 'NG', 'NI', 'NL', 'NO', 'NP', 'NR', 'NZ', 'OM', 'PA', 'PE', 'PG', 'PH', 'PK', 'PL', 'PS', 'PT', 'PW', 'PY', 'QA', 'RO', 'RS', 'RW', 'SA', 'SB', 'SC', 'SE', 'SG', 'SI', 'SK', 'SL', 'SM', 'SN', 'SR', 'ST', 'SV', 'SZ', 'TD', 'TG', 'TH', 'TJ', 'TL', 'TN', 'TO', 'TR', 'TT', 'TV', 'TW', 'TZ', 'UA', 'UG', 'US', 'UY', 'UZ', 'VC', 'VE', 'VN', 'VU', 'WS', 'XK', 'ZA', 'ZM', 'ZW'], 'disc_number': 1, 'duration_ms': 289987, 'explicit': False, 'external_ids': {'isrc': 'SEBGA1500033'}, 'external_urls': {'spotify': 'https://open.spotify.com/track/4SBqydJCEhcroni09XgT2c'}, 'href': 'https://api.spotify.com/v1/tracks/4SBqydJCEhcroni09XgT2c', 'id': '4SBqydJCEhcroni09XgT2c', 'is_local': False, 'name': 'ID - Ultra Music Festival Anthem', 'popularity': 56, 'preview_url': 'https://p.scdn.co/mp3-preview/bcc4d89620370c4d2f8028facfb44c9ffe6dec16?cid=ded2ad68754742df8ef897de2e835c0e', 'track_number': 1, 'type': 'track', 'uri': 'spotify:track:4SBqydJCEhcroni09XgT2c'}], 'limit': 1, 'next': 'https://api.spotify.com/v1/search?query=id%3A236102864&type=track&offset=1&limit=1', 'offset': 0, 'previous': None, 'total': 353}}\n"
     ]
    },
    {
     "data": {
      "text/plain": [
       "{'artist': 'Arijit Singh',\n",
       " 'name': 'Agar Tum Sath Ho',\n",
       " 'image_url': 'https://i.scdn.co/image/ab67616d00001e0200c2fdeb8b1f508eb3d38212',\n",
       " 'preview_url': 'https://p.scdn.co/mp3-preview/bcc4d89620370c4d2f8028facfb44c9ffe6dec16?cid=ded2ad68754742df8ef897de2e835c0e',\n",
       " 'spotify_url': 'https://open.spotify.com/track/4SBqydJCEhcroni09XgT2c'}"
      ]
     },
     "execution_count": 35,
     "metadata": {},
     "output_type": "execute_result"
    }
   ],
   "source": [
    "find_track_info(\"arijit sing\", \"agar tum saath ho\")"
   ]
  },
  {
   "cell_type": "code",
   "execution_count": null,
   "id": "277c4094",
   "metadata": {},
   "outputs": [],
   "source": []
  }
 ],
 "metadata": {
  "kernelspec": {
   "display_name": "Python 3 (ipykernel)",
   "language": "python",
   "name": "python3"
  },
  "language_info": {
   "codemirror_mode": {
    "name": "ipython",
    "version": 3
   },
   "file_extension": ".py",
   "mimetype": "text/x-python",
   "name": "python",
   "nbconvert_exporter": "python",
   "pygments_lexer": "ipython3",
   "version": "3.8.3"
  },
  "vscode": {
   "interpreter": {
    "hash": "ad6d366f7d3afd3abc5f6e1f72985c0b13c6607d89d8815e1a84054cfa002846"
   }
  }
 },
 "nbformat": 4,
 "nbformat_minor": 5
}
