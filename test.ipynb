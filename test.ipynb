{
 "cells": [
  {
   "cell_type": "code",
   "execution_count": 5,
   "id": "cd8c79ce",
   "metadata": {},
   "outputs": [],
   "source": [
    "import numpy as np # linear algebra\n",
    "import pandas as pd # data processing, CSV file I/O (e.g. pd.read_csv)\n",
    "from inltk.inltk import setup\n",
    "from inltk.inltk import tokenize\n",
    "from collections import Counter\n",
    "import pandas as pd\n",
    "import re\n"
   ]
  },
  {
   "cell_type": "code",
   "execution_count": 9,
   "id": "3d2b8164",
   "metadata": {},
   "outputs": [],
   "source": [
    "import matplotlib.pyplot as plt\n",
    "from sklearn.feature_extraction.text import TfidfVectorizer\n",
    "from sklearn.metrics.pairwise import linear_kernel\n",
    "from collections import Counter\n",
    "\n",
    "import seaborn as sns\n",
    "import os\n",
    "import requests\n",
    "import json\n",
    "import spotipy\n",
    "\n",
    "from spotipy.oauth2 import SpotifyClientCredentials # Recommendation Generator\n",
    "\n",
    "\n",
    "class HindiRecommender:\n",
    "    def __init__(self):\n",
    "        sns.set(rc={'figure.figsize':(10,7)})\n",
    "        pd.set_option('max_colwidth', 400)\n",
    "        self.df = pd.read_csv(os.path.join(os.getcwd(), 'data/transliterated_data.csv'))\n",
    "        self.df.drop(['Unnamed: 0'] , axis = 1, inplace = True)\n",
    "        self.df.drop(['level_0'] , axis = 1, inplace = True)\n",
    "        print(self.df.columns)\n",
    "        self.df = self.df.drop_duplicates(subset='artist', keep='first')\n",
    "        self.df = self.df.reset_index(level=0)\n",
    "        self.df.rename(columns = {'Song name'  : 'song_name'}, inplace = True)\n",
    "\n",
    "        self.train()\n",
    "\n",
    "    # Calculating cosine similarities from lyrics and storing similar song results in results dict\n",
    "\n",
    "    def train(self):\n",
    "        self.tf = TfidfVectorizer(analyzer='word', min_df=0, max_features= 100 , lowercase=True)\n",
    "        self.tfidf_matrix = self.tf.fit_transform(self.df['lyrics'])\n",
    "\n",
    "        self.cosine_similarities = linear_kernel(self.tfidf_matrix, self.tfidf_matrix)\n",
    "        self.results = {}\n",
    "\n",
    "        for idx, row in self.df.iterrows():\n",
    "            similar_indices = self.cosine_similarities[idx].argsort()[:-100:-1]\n",
    "            similar_items = [(self.cosine_similarities[idx][i], self.df['id'][i]) for i in similar_indices]\n",
    "            self.results[row['id']] = similar_items[1:]\n",
    "\n",
    "\n",
    "\n",
    "    def item(self,id):\n",
    "        return self.df.loc[self.df['id'] == id]['song_name']\n",
    "        \n",
    "    def get_musixmatch_api_url(self, url):\n",
    "            return 'http://api.musixmatch.com/ws/1.1/{}&format=json&apikey={}'.format(url, \\\n",
    "            os.getenv(\"MUSIX_API_KEY\"))\n",
    "    def find_track_info(self, artist, title):\n",
    "        url = 'matcher.track.get?q_track={}&q_artist={}'.format(title,artist)\n",
    "        matched_res = requests.get(self.get_musixmatch_api_url(url))\n",
    "        matched_data = json.loads(matched_res.text)\n",
    "\n",
    "        if matched_data[\"message\"][\"header\"][\"status_code\"] == 200:\n",
    "            #Get initial Musixmatch information\n",
    "            artist = matched_data[\"message\"][\"body\"][\"track\"][\"artist_name\"]\n",
    "            title = matched_data[\"message\"][\"body\"][\"track\"][\"track_name\"]\n",
    "            track_id = matched_data[\"message\"][\"body\"][\"track\"][\"track_id\"]\n",
    "\n",
    "            #Access Spotify API\n",
    "            client_credentials_manager = SpotifyClientCredentials(\\\n",
    "            client_id=os.getenv(\"SPOTIFY_CLIENT_ID\"), \\\n",
    "            client_secret=os.getenv(\"SPOTIFY_CLIENT_SECRET\"))\n",
    "            spotify = spotipy.Spotify(client_credentials_manager=client_credentials_manager)\n",
    "\n",
    "            #Get album art and a preview url from Spotify\n",
    "            results = spotify.search(q='track:' + title + \\\n",
    "            ' artist:' + artist, type='track')\n",
    "            out = {\"artist\" : artist, \"name\" : title}\n",
    "            try:\n",
    "                track = results['tracks']['items'][0]\n",
    "                out[\"image_url\"] = track[\"album\"][\"images\"][1][\"url\"]\n",
    "                out[\"preview_url\"] = track[\"preview_url\"]\n",
    "                out[\"spotify_url\"] = track['external_urls']['spotify']\n",
    "                \n",
    "                return out\n",
    "            except:\n",
    "                return False\n",
    "\n",
    "    def recommend(self, artist, song_name, num):\n",
    "        # filter df to find id of the song with name and artist\n",
    "        song = self.df.query('song_name == @song_name and artist == @artist')\n",
    "        # if doesnt exist, return False for now TODO : change this..\n",
    "        # if exists, return the recommendations\n",
    "        if(not song.empty):\n",
    "            id = song['id']\n",
    "            id = id.item()\n",
    "            recs = self.results[id][:num]\n",
    "            i=0\n",
    "            recommendations = []\n",
    "            for rec in recs:\n",
    "                track = self.df.query('id==@rec[1]')\n",
    "                artist = str(track[\"artist\"].values[0]) \n",
    "                track =str(track[\"song_name\"].values[0])\n",
    "                newRecommendation = self.find_track_info(artist, track)\n",
    "                if(newRecommendation):\n",
    "                    recommendations.append(newRecommendation)\n",
    "                else:\n",
    "                    pass\n",
    "            return(recommendations)\n",
    "        else:\n",
    "            False\n",
    "\n",
    "    \n",
    "    def addRow(self, song_name, type, artist, lyrics):\n",
    "        id = len(self.df['id'])\n",
    "        newRow = [0,song_name, type, artist, lyrics, id]\n",
    "        print(len(self.df.loc[len(self.df['id']) - 1]))\n",
    "        # add the new song data to the df\n",
    "        self.df.loc[len(self.df['id'])] = newRow\n",
    "        #train again\n",
    "        self.train()\n",
    "        "
   ]
  },
  {
   "cell_type": "code",
   "execution_count": 10,
   "id": "93706983",
   "metadata": {},
   "outputs": [
    {
     "name": "stdout",
     "output_type": "stream",
     "text": [
      "Index(['song_name', 'type', 'artist', 'lyrics', 'id'], dtype='object')\n",
      "6\n"
     ]
    }
   ],
   "source": [
    "t = HindiRecommender()\n",
    "t.addRow(song_name = 'kesariya', type = 'romantic', artist =  'arijit singh', lyrics =  '''मुझको... इतना बताये कोई कैसे तुझसे दिल ना लगाए कोई रब्बा ने तुझको बनाने में कर दी है हुस्न की खाली तिजोरियाँ काजल की सिहाई से लिखी है तूने जाने कितनो की लव स्टोरियाँ केसरिया तेरा इश्क़ है पिया रंग जाऊं जो मैं हाथ लगाऊँ दिन बीते सारा तेरी फ़िक्र में रैन सारी तेरी खैर मनाऊँ शिवा... ईशा का मतलब जानते हो तुम ? पार्वती अब शिवा का साथ पार्वती नही देगी तो कौन देगा पतझड़ के मौसम में भी रंगी चनारो जैसी झनके सन्नाटो में तू वीना के तारो जैसी... हम्म... सदियों से भी लम्बी ये मन की अमावसे है और तू फुलझड़ियों वाले त्योहारों जैसी चंदा भी दीवाना है तेरा जलती है तुझसे सारी चकोरियाँ... काजल की सिहाई से लिखी है तूने जाने कितनो की लव स्टोरियाँ... लव स्टोरियाँ... केसरिया तेरा इश्क़ है पिया रंग जाऊं जो मैं हाथ लगाऊँ दिन बीते सारा तेरी फ़िक्र में रैन सारी तेरी खैर मनाऊँ केसरिया तेरा इश्क़ है पिया इश्क़ है पिया केसरिया तेरा इश्क़ है पिया इश्क़ है पिया केसरिया तेरा''')\n"
   ]
  },
  {
   "cell_type": "code",
   "execution_count": 11,
   "id": "5f5a2af0",
   "metadata": {},
   "outputs": [],
   "source": [
    "test = t.recommend('kishor kumar','neelanillaiyambar', 3)"
   ]
  },
  {
   "cell_type": "code",
   "execution_count": 12,
   "id": "02d76774",
   "metadata": {},
   "outputs": [
    {
     "data": {
      "text/plain": [
       "[{'artist': 'Akhil & Dhvani Bhanushali',\n",
       "  'name': 'Duniyaa (From \"Luka Chuppi\")',\n",
       "  'image_url': 'https://i.scdn.co/image/ab67616d00001e02c3b01eb89e34e1f2838e425a',\n",
       "  'preview_url': 'https://p.scdn.co/mp3-preview/653f3afac1a294560f5a20ce1dce71fa5f186da1?cid=ded2ad68754742df8ef897de2e835c0e',\n",
       "  'spotify_url': 'https://open.spotify.com/track/3s3J70eRpRH2hcYq4mEXTJ'},\n",
       " {'artist': 'Shiraz Uppal',\n",
       "  'name': 'Mere Khuda',\n",
       "  'image_url': 'https://i.scdn.co/image/ab67616d00001e02cd8e501bd6887a5482d11296',\n",
       "  'preview_url': 'https://p.scdn.co/mp3-preview/f712bc659288ba899689ebcd0941336d279a3baf?cid=ded2ad68754742df8ef897de2e835c0e',\n",
       "  'spotify_url': 'https://open.spotify.com/track/46FAFrZrQHLte6NEN4yNbB'}]"
      ]
     },
     "execution_count": 12,
     "metadata": {},
     "output_type": "execute_result"
    }
   ],
   "source": [
    "test"
   ]
  },
  {
   "cell_type": "code",
   "execution_count": 13,
   "id": "3721d6b9",
   "metadata": {},
   "outputs": [],
   "source": [
    "import requests\n",
    "def get_musixmatch_api_url(url):\n",
    "        return 'http://api.musixmatch.com/ws/1.1/{}&format=json&apikey={}'.format(url, \\\n",
    "        os.getenv(\"MUSIX_API_KEY\"))\n",
    "def find_track_info(artist, title):\n",
    "    url = 'matcher.track.get?q_track={}&q_artist={}'.format(title,artist)\n",
    "    matched_res = requests.get(get_musixmatch_api_url(url))\n",
    "    matched_data = json.loads(matched_res.text)\n",
    "\n",
    "    if matched_data[\"message\"][\"header\"][\"status_code\"] == 200:\n",
    "        #Get initial Musixmatch information\n",
    "        artist = matched_data[\"message\"][\"body\"][\"track\"][\"artist_name\"]\n",
    "        title = matched_data[\"message\"][\"body\"][\"track\"][\"track_name\"]\n",
    "        track_id = matched_data[\"message\"][\"body\"][\"track\"][\"track_id\"]\n",
    "\n",
    "        #Access Spotify API\n",
    "        client_credentials_manager = SpotifyClientCredentials(\\\n",
    "        client_id=os.getenv(\"SPOTIFY_CLIENT_ID\"), \\\n",
    "        client_secret=os.getenv(\"SPOTIFY_CLIENT_SECRET\"))\n",
    "        spotify = spotipy.Spotify(client_credentials_manager=client_credentials_manager)\n",
    "\n",
    "        #Get album art and a preview url from Spotify\n",
    "        results = spotify.search(q='id:'+str(track_id), type='track', limit=1)\n",
    "        out = {\"artist\" : artist, \"name\" : title}\n",
    "        print(results)\n",
    "        try:\n",
    "            track = results['tracks']['items'][0]\n",
    "            out[\"image_url\"] = track[\"album\"][\"images\"][1][\"url\"]\n",
    "            out[\"preview_url\"] = track[\"preview_url\"]\n",
    "            out[\"spotify_url\"] = track['external_urls']['spotify']\n",
    "            \n",
    "            return out\n",
    "        except:\n",
    "            return False\n"
   ]
  },
  {
   "cell_type": "code",
   "execution_count": 26,
   "id": "60a9892f",
   "metadata": {},
   "outputs": [],
   "source": [
    "find_track_info(\"o chaki saki\",\"latha mangeshkeshkar\")"
   ]
  },
  {
   "cell_type": "code",
   "execution_count": 32,
   "id": "a4d90c34",
   "metadata": {},
   "outputs": [],
   "source": [
    "df = pd.read_csv(\"data/hindi_data.csv\")"
   ]
  },
  {
   "cell_type": "code",
   "execution_count": 35,
   "id": "b0539c2d",
   "metadata": {},
   "outputs": [],
   "source": [
    "df = df.drop_duplicates(subset='artist', keep='first')\n",
    "df = df.reset_index(level=0)\n",
    "df.rename(columns = {'Song name'  : 'song_name'}, inplace = True)\n"
   ]
  },
  {
   "cell_type": "code",
   "execution_count": 36,
   "id": "0fbc1772",
   "metadata": {},
   "outputs": [
    {
     "data": {
      "text/plain": [
       "Index(['level_0', 'index', 'song_name', 'type', 'artist', 'lyrics'], dtype='object')"
      ]
     },
     "execution_count": 36,
     "metadata": {},
     "output_type": "execute_result"
    }
   ],
   "source": [
    "df.columns"
   ]
  },
  {
   "cell_type": "code",
   "execution_count": 37,
   "id": "4a95be3d",
   "metadata": {},
   "outputs": [],
   "source": [
    "temp = df[[\"index\", \"song_name\", \"artist\"]]"
   ]
  },
  {
   "cell_type": "code",
   "execution_count": 38,
   "id": "c6f756bb",
   "metadata": {},
   "outputs": [],
   "source": [
    "temp.to_csv(\"data/song_name_artist_name.csv\")"
   ]
  },
  {
   "cell_type": "code",
   "execution_count": null,
   "id": "5456007c",
   "metadata": {},
   "outputs": [],
   "source": []
  }
 ],
 "metadata": {
  "kernelspec": {
   "display_name": "Versaline-E-k1jHhm",
   "language": "python",
   "name": "python3"
  },
  "language_info": {
   "codemirror_mode": {
    "name": "ipython",
    "version": 3
   },
   "file_extension": ".py",
   "mimetype": "text/x-python",
   "name": "python",
   "nbconvert_exporter": "python",
   "pygments_lexer": "ipython3",
   "version": "3.8.0 (tags/v3.8.0:fa919fd, Oct 14 2019, 19:37:50) [MSC v.1916 64 bit (AMD64)]"
  },
  "vscode": {
   "interpreter": {
    "hash": "d8910afd524331be0101d365fb07195faaf7c313dbf627db0d5c962a9978b6f7"
   }
  }
 },
 "nbformat": 4,
 "nbformat_minor": 5
}
